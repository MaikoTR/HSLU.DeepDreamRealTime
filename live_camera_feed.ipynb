{
 "cells": [
  {
   "cell_type": "code",
   "execution_count": 2,
   "id": "96c71767",
   "metadata": {},
   "outputs": [],
   "source": [
    "import cv2\n",
    "import os\n",
    "import time\n",
    "from datetime import datetime"
   ]
  },
  {
   "cell_type": "code",
   "execution_count": 7,
   "id": "2d8310c3",
   "metadata": {},
   "outputs": [],
   "source": [
    "def capture_image():\n",
    "    # Create directory for saving images\n",
    "    script_dir = './img'\n",
    "    os.makedirs(script_dir, exist_ok=True)\n",
    "    \n",
    "    # First, check what video devices are available\n",
    "    import subprocess\n",
    "    result = subprocess.run(['ls', '-la', '/dev/video*'], capture_output=True, text=True)\n",
    "    print(\"Available video devices:\")\n",
    "    print(result.stdout)\n",
    "    \n",
    "    # Try to be more explicit with the device path\n",
    "    device_path = '/dev/video0'\n",
    "    \n",
    "    # Use explicit V4L2 backend\n",
    "    cap = cv2.VideoCapture(device_path, cv2.CAP_V4L2)\n",
    "    \n",
    "    # Set some explicit properties to help with compatibility\n",
    "    cap.set(cv2.CAP_PROP_FOURCC, cv2.VideoWriter_fourcc('M', 'J', 'P', 'G'))\n",
    "    cap.set(cv2.CAP_PROP_FRAME_WIDTH, 640)\n",
    "    cap.set(cv2.CAP_PROP_FRAME_HEIGHT, 480)\n",
    "    \n",
    "    # Check if camera opened successfully\n",
    "    if not cap.isOpened():\n",
    "        print(f\"Error: Could not open camera at {device_path}\")\n",
    "        return\n",
    "    \n",
    "    print(\"Camera opened successfully!\")\n",
    "    \n",
    "    # Give the camera some time to initialize\n",
    "    time.sleep(3)\n",
    "    \n",
    "    # Capture a frame\n",
    "    print(\"Capturing image...\")\n",
    "    ret, frame = cap.read()\n",
    "    \n",
    "    if ret:\n",
    "        # Generate filename with timestamp\n",
    "        timestamp = datetime.now().strftime(\"%Y%m%d_%H%M%S\")\n",
    "        filename = f\"camera_capture_{timestamp}.jpg\"\n",
    "        filepath = os.path.join(script_dir, filename)\n",
    "        \n",
    "        # Save the image\n",
    "        cv2.imwrite(filepath, frame)\n",
    "        print(f\"Image saved to: {filepath}\")\n",
    "        \n",
    "        # Optional: Show image dimensions to verify content\n",
    "        print(f\"Image dimensions: {frame.shape}\")\n",
    "    else:\n",
    "        print(\"Error: Failed to capture image.\")\n",
    "    \n",
    "    # Release the camera\n",
    "    cap.release()"
   ]
  },
  {
   "cell_type": "code",
   "execution_count": 8,
   "id": "51a9abb5",
   "metadata": {},
   "outputs": [
    {
     "name": "stdout",
     "output_type": "stream",
     "text": [
      "Available video devices:\n",
      "\n",
      "Error: Could not open camera at /dev/video0\n"
     ]
    },
    {
     "name": "stderr",
     "output_type": "stream",
     "text": [
      "[ WARN:0@972.466] global cap.cpp:215 open VIDEOIO(V4L2): backend is generally available but can't be used to capture by name\n"
     ]
    }
   ],
   "source": [
    "capture_image()"
   ]
  },
  {
   "cell_type": "code",
   "execution_count": null,
   "id": "ea611b08",
   "metadata": {},
   "outputs": [],
   "source": []
  }
 ],
 "metadata": {
  "kernelspec": {
   "display_name": "cvai",
   "language": "python",
   "name": "python3"
  },
  "language_info": {
   "codemirror_mode": {
    "name": "ipython",
    "version": 3
   },
   "file_extension": ".py",
   "mimetype": "text/x-python",
   "name": "python",
   "nbconvert_exporter": "python",
   "pygments_lexer": "ipython3",
   "version": "3.9.21"
  }
 },
 "nbformat": 4,
 "nbformat_minor": 5
}
